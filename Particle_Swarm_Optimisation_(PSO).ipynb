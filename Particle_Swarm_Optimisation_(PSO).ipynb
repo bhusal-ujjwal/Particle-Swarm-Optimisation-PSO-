{
  "nbformat": 4,
  "nbformat_minor": 0,
  "metadata": {
    "colab": {
      "provenance": []
    },
    "kernelspec": {
      "name": "python3",
      "display_name": "Python 3"
    },
    "language_info": {
      "name": "python"
    }
  },
  "cells": [
    {
      "cell_type": "code",
      "source": [
        "# Implement the basic PSO algorithm.\n",
        "\n",
        "# PSO:\n",
        "# Global topology (everyone knows about gbest)\n",
        "# c1 = c2 = 1.49618\n",
        "# linear decrease of inertia weight w from 0.9 to 0.4 with iterations\n",
        "# Other settings are up to you (population/swarm size, number of iterations).\n",
        "\n",
        "# ! Important notes !\n",
        "\n",
        "# The equation for velocity computation is a vector equation.\n",
        "# The initial velocity v0 is 0.\n",
        "# Velocity is limited to a max of 20% of the search space range in each dimension.\n",
        "# Tasks\n",
        "\n",
        "# 1) Implement PSO\n",
        "# 2) Test PSO on the same test functions"
      ],
      "metadata": {
        "id": "Moq-t5chUw3H"
      },
      "execution_count": null,
      "outputs": []
    },
    {
      "cell_type": "code",
      "source": [
        "# Import Libraries\n",
        "import numpy as np"
      ],
      "metadata": {
        "id": "Nsi9Dk2DkrFZ"
      },
      "execution_count": null,
      "outputs": []
    },
    {
      "cell_type": "code",
      "source": [
        "# Define test functions\n",
        "# Sphere function\n",
        "def sphere(x):\n",
        "    return np.sum(x**2)\n",
        "\n",
        "# Schwefel function\n",
        "def schwefel(x):\n",
        "    return 418.9829 * len(x) - np.sum(x * np.sin(np.sqrt(np.abs(x))))\n",
        "\n",
        "# Rastrigin function\n",
        "def rastrigin(x):\n",
        "    return 10 * len(x) + np.sum(x**2 - 10 * np.cos(2 * np.pi * x))"
      ],
      "metadata": {
        "id": "L1aUrYUalTH5"
      },
      "execution_count": null,
      "outputs": []
    },
    {
      "cell_type": "code",
      "source": [
        "# Define PSO algorithm\n",
        "def pso(pop_size, dim, bounds, max_iter, obj_func, topology='global', c1=1.49618, c2=1.49618, w_range=(0.9, 0.4)):\n",
        "    # Initialization\n",
        "    swarm = np.random.uniform(bounds[0], bounds[1], size=(pop_size, dim))\n",
        "    velocity = np.zeros_like(swarm)\n",
        "    pbest = swarm.copy()\n",
        "    pbest_values = np.array([obj_func(p) for p in pbest])\n",
        "\n",
        "    if topology == 'global':\n",
        "        gbest = pbest[np.argmin(pbest_values)]\n",
        "        gbest_value = np.min(pbest_values)\n",
        "    elif topology == 'ring':\n",
        "        gbest = pbest[np.argmin(pbest_values)]\n",
        "        gbest_value = np.min(pbest_values)\n",
        "        # Define ring topology\n",
        "        neighbors = {i: [(i - j) % pop_size for j in range(1, pop_size // 2 + 1)] + [(i + j) % pop_size for j in range(1, pop_size // 2 + 1)] for i in range(pop_size)}\n",
        "\n",
        "    # Main loop\n",
        "    for iteration in range(max_iter):\n",
        "        w = w_range[0] - (w_range[0] - w_range[1]) * iteration / max_iter  # Linearly decrease inertia weight\n",
        "\n",
        "        for i in range(pop_size):\n",
        "            # Velocity update\n",
        "            r1, r2 = np.random.rand(dim), np.random.rand(dim)\n",
        "            if topology == 'global':\n",
        "                velocity[i] = w * velocity[i] + c1 * r1 * (pbest[i] - swarm[i]) + c2 * r2 * (gbest - swarm[i])\n",
        "            elif topology == 'ring':\n",
        "                ring_neighbors = neighbors[i]\n",
        "                velocity[i] = w * velocity[i] + c1 * r1 * (pbest[i] - swarm[i]) + c2 * r2 * (pbest[ring_neighbors].mean(axis=0) - swarm[i])\n",
        "\n",
        "            # Velocity clipping\n",
        "            v_max = 0.2 * (bounds[1] - bounds[0])\n",
        "            velocity[i] = np.clip(velocity[i], -v_max, v_max)\n",
        "\n",
        "            # Position update\n",
        "            swarm[i] += velocity[i]\n",
        "\n",
        "            # Position clipping\n",
        "            swarm[i] = np.clip(swarm[i], bounds[0], bounds[1])\n",
        "\n",
        "            # Update personal best\n",
        "            if obj_func(swarm[i]) < pbest_values[i]:\n",
        "                pbest[i] = swarm[i]\n",
        "                pbest_values[i] = obj_func(swarm[i])\n",
        "\n",
        "        # Update global best\n",
        "        if topology == 'global':\n",
        "            gbest_index = np.argmin(pbest_values)\n",
        "            if pbest_values[gbest_index] < gbest_value:\n",
        "                gbest = pbest[gbest_index]\n",
        "                gbest_value = pbest_values[gbest_index]\n",
        "        elif topology == 'ring':\n",
        "            gbest_index = np.argmin(pbest_values)\n",
        "            if pbest_values[gbest_index] < gbest_value:\n",
        "                gbest = pbest[gbest_index]\n",
        "                gbest_value = pbest_values[gbest_index]\n",
        "\n",
        "    return gbest, gbest_value\n",
        "\n"
      ],
      "metadata": {
        "id": "n9Y1cQXnlTJd"
      },
      "execution_count": null,
      "outputs": []
    },
    {
      "cell_type": "code",
      "source": [
        "# Test PSO on Sphere, Schwefel, and Rastrigin functions\n",
        "pop_size = 50\n",
        "dim = 10\n",
        "max_iter = 100"
      ],
      "metadata": {
        "id": "6N22OggAlTNk"
      },
      "execution_count": null,
      "outputs": []
    },
    {
      "cell_type": "code",
      "source": [
        "# Define bounds for each function\n",
        "bounds = {\n",
        "    'sphere': (-5.12, 5.12),\n",
        "    'schwefel': (-500, 500),\n",
        "    'rastrigin': (-5.12, 5.12)\n",
        "}"
      ],
      "metadata": {
        "id": "DWpHsSz-lfT5"
      },
      "execution_count": null,
      "outputs": []
    },
    {
      "cell_type": "code",
      "source": [
        "# Test PSO with Global Topology\n",
        "print(\"PSO - Global Topology:\")\n",
        "for obj_func, func_bounds in zip([sphere, schwefel, rastrigin], bounds.values()):\n",
        "    best_solution, best_value = pso(pop_size, dim, func_bounds, max_iter, obj_func, topology='global', c1=1.49618, c2=1.49618, w_range=(0.9, 0.4))\n",
        "    print(f\"{obj_func.__name__}: Best Value = {best_value}, Best Solution = {best_solution}\")\n",
        "\n",
        "# Test PSO with Ring Topology\n",
        "print(\"\\nPSO - Ring Topology:\")\n",
        "for obj_func, func_bounds in zip([sphere, schwefel, rastrigin], bounds.values()):\n",
        "    best_solution, best_value = pso(pop_size, dim, func_bounds, max_iter, obj_func, topology='ring', c1=1.49618, c2=1.49618, w_range=(0.9, 0.4))\n",
        "    print(f\"{obj_func.__name__}: Best Value = {best_value}, Best Solution = {best_solution}\")"
      ],
      "metadata": {
        "colab": {
          "base_uri": "https://localhost:8080/"
        },
        "id": "WxOZbWsIn1vT",
        "outputId": "9c2191ec-eef8-40a1-e00a-61750977051f"
      },
      "execution_count": null,
      "outputs": [
        {
          "output_type": "stream",
          "name": "stdout",
          "text": [
            "PSO - Global Topology:\n",
            "sphere: Best Value = 8.552420457885311e-09, Best Solution = [ 2.08652023e-05  4.28758796e-05  1.36841115e-05  1.02389706e-06\n",
            " -2.08838026e-05  1.51284882e-05  3.27585208e-05 -2.56984576e-05\n",
            "  4.74085018e-05  3.80041792e-05]\n",
            "schwefel: Best Value = 1085.7014601361202, Best Solution = [-124.81234243  203.83400848  203.81809822  420.96890143 -302.50819107\n",
            " -302.51264716  420.955743   -302.505452    420.95676805  420.98770914]\n",
            "rastrigin: Best Value = 10.945251740679538, Best Solution = [ 9.95219901e-01  9.94071316e-01 -9.95382262e-01 -9.93982683e-01\n",
            "  9.94748488e-01 -5.84419111e-04  9.94128474e-01  2.33828361e-04\n",
            " -9.94611590e-01  1.98933855e+00]\n",
            "\n",
            "PSO - Ring Topology:\n",
            "sphere: Best Value = 0.00010677461783000019, Best Solution = [-0.00456869 -0.00078018  0.00240663  0.00088413 -0.00150111  0.00190369\n",
            " -0.00153963  0.00072413  0.00404875 -0.00731812]\n",
            "schwefel: Best Value = 2236.676413935019, Best Solution = [-278.15222783 -203.3627237   100.68464245 -295.3072221   408.4335051\n",
            "  410.76107387  412.01402093 -499.1006097  -300.24058604  246.21522201]\n",
            "rastrigin: Best Value = 2.2447531744789444, Best Solution = [ 2.38299741e-02 -9.96394360e-01  2.64823362e-02 -4.62567711e-03\n",
            " -1.46130127e-04  4.23962206e-02  1.13128275e-02  7.19027964e-03\n",
            "  2.59683743e-02 -4.88760232e-02]\n"
          ]
        }
      ]
    },
    {
      "cell_type": "code",
      "source": [],
      "metadata": {
        "id": "a8h9xEZCn665"
      },
      "execution_count": null,
      "outputs": []
    }
  ]
}